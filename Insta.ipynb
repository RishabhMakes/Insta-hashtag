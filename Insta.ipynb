{
 "cells": [
  {
   "cell_type": "code",
   "execution_count": 1,
   "metadata": {},
   "outputs": [
    {
     "name": "stdout",
     "output_type": "stream",
     "text": [
      "Starting stuff\n"
     ]
    }
   ],
   "source": [
    "print(\"Starting stuff\")\n",
    "from bs4 import BeautifulSoup\n",
    "from selenium import webdriver\n",
    "from selenium.webdriver.common.keys import Keys\n",
    "from secrets import *\n",
    "import time\n",
    "import random\n",
    "import numpy\n",
    "import pandas\n",
    "import os\n",
    "# print(secrets.passkey)\n",
    "import json\n",
    "import urllib.request"
   ]
  },
  {
   "cell_type": "code",
   "execution_count": 2,
   "metadata": {},
   "outputs": [],
   "source": [
    "driver = webdriver.Firefox()\n",
    "time.sleep(2)\n",
    "tag='artistsofinstagram'\n",
    "driver.get('https://www.instagram.com/explore/tags/'+tag+'/')\n",
    "time.sleep(2)"
   ]
  },
  {
   "cell_type": "code",
   "execution_count": 3,
   "metadata": {
    "scrolled": true
   },
   "outputs": [],
   "source": [
    "html = driver.page_source\n",
    "soup = BeautifulSoup(html, 'html.parser')\n"
   ]
  },
  {
   "cell_type": "code",
   "execution_count": 4,
   "metadata": {},
   "outputs": [
    {
     "name": "stdout",
     "output_type": "stream",
     "text": [
      "58\n"
     ]
    }
   ],
   "source": [
    "posts=[]\n",
    "leads = soup.find_all(\"a\")\n",
    "print(len(leads))"
   ]
  },
  {
   "cell_type": "markdown",
   "metadata": {},
   "source": [
    "## Find post links from hashtag page"
   ]
  },
  {
   "cell_type": "code",
   "execution_count": 5,
   "metadata": {},
   "outputs": [],
   "source": [
    "for lead in leads:\n",
    "    img=lead.find(\"img\", class_=\"FFVAD\")\n",
    "    if(img):\n",
    "        post={}\n",
    "        post[\"url\"]=lead.attrs['href']\n",
    "        post[\"alt\"]=img['alt']\n",
    "        post[\"raw_link\"]=img['srcset']\n",
    "        post[\"tag\"]=tag\n",
    "        posts.append(post)\n",
    "        \n",
    "for post in posts:\n",
    "    part=post[\"raw_link\"].split(\",\")\n",
    "    clean=part[-1].split()\n",
    "    post[\"src\"]=clean[0]"
   ]
  },
  {
   "cell_type": "markdown",
   "metadata": {},
   "source": [
    "## Find details of post"
   ]
  },
  {
   "cell_type": "code",
   "execution_count": 6,
   "metadata": {},
   "outputs": [
    {
     "name": "stdout",
     "output_type": "stream",
     "text": [
      "Some error\n"
     ]
    }
   ],
   "source": [
    "for post in posts:\n",
    "    url='https://www.instagram.com'+post[\"url\"]\n",
    "    driver.get(url)\n",
    "    html = driver.page_source\n",
    "    soup = BeautifulSoup(html, 'html.parser')\n",
    "    img = soup.find(\"img\", class_=\"FFVAD\")\n",
    "    try:\n",
    "        post[\"raw_link\"]=img['srcset']\n",
    "        \n",
    "        part=post[\"raw_link\"].split(\",\")\n",
    "        clean=part[-1].split()\n",
    "        post[\"src\"]=clean[0]\n",
    "            \n",
    "        post[\"size\"]=clean[1]\n",
    "         \n",
    "    except:\n",
    "        print(\"Some error\")\n",
    "    \n",
    "    user = soup.find(\"h2\").div.a\n",
    "    post[\"user\"]=user[\"href\"]\n",
    "    post[\"username\"]=user.string\n",
    "    \n",
    "    raw_description=soup.find(\"h2\").next_sibling\n",
    "    post[\"plaintext_description\"]=raw_description.get_text()\n",
    "    post[\"rich_description\"]=str(raw_description)\n",
    "#     print(post[\"descriptionplain\"], \"\\n \\n\")\n",
    "#     print(post[\"rich_description\"])\n",
    "    \n",
    "    "
   ]
  },
  {
   "cell_type": "markdown",
   "metadata": {},
   "source": [
    "## Save images to /img/tag"
   ]
  },
  {
   "cell_type": "code",
   "execution_count": 7,
   "metadata": {},
   "outputs": [
    {
     "name": "stdout",
     "output_type": "stream",
     "text": [
      "... B_x1h0vF0kO.jpg\n",
      "... B_wS-h9ptkC.jpg\n",
      "... B_xdpOVjDh3.jpg\n",
      "... B_yLczcDb-1.jpg\n",
      "... B_xYXWcBmd1.jpg\n",
      "... B_xRf0uDE4D.jpg\n",
      "... B_xpeZBHNK0.jpg\n",
      "... B_xfmelFfTl.jpg\n",
      "... B_xhTTXDLgL.jpg\n",
      "... B_yueabHZ18.jpg\n",
      "... B_yudl5nVa-.jpg\n",
      "... B_yua44JgzC.jpg\n",
      "... B_yuauACMye.jpg\n",
      "... B_yuaVmlut7.jpg\n",
      "... B_yuZhIlguq.jpg\n",
      "... B_yuYa5ATdz.jpg\n",
      "... B_yuXKeFrMa.jpg\n",
      "... B_yuWALFRHK.jpg\n",
      "... B_yuU-3AoZX.jpg\n",
      "... B_yuUhJjQbz.jpg\n",
      "... B_yuUc9FxPW.jpg\n",
      "... B_yuTLUFkVU.jpg\n",
      "... B_yuOl1p34e.jpg\n",
      "... B_yuMRJlDos.jpg\n",
      "... B_yuMVgnfg5.jpg\n",
      "... B_yuL1cDmBF.jpg\n",
      "... B_yuLZchQBF.jpg\n",
      "... B_yuKT5j1tF.jpg\n",
      "... B_yuI7agjdB.jpg\n",
      "... B_yuI8uHgry.jpg\n",
      "... B_yuHEDJ8xi.jpg\n",
      "... B_yuG7jhVC2.jpg\n",
      "... B_yuGdCnKx_.jpg\n",
      "Completed\n"
     ]
    }
   ],
   "source": [
    "directory= os.path.join(os.path.expanduser('~'),'Insta-hashtag', 'img', tag)\n",
    "if not os.path.isdir(directory):\n",
    "    os.makedirs(directory) \n",
    "    \n",
    "for post in posts: \n",
    "    pic_url=post[\"src\"]\n",
    "    name=post[\"url\"][3:-1]+'.jpg'\n",
    "    path = os.path.join(directory,name)\n",
    "    if (not os.path.isfile(path)):\n",
    "        try:\n",
    "            urllib.request.urlretrieve(pic_url, path)\n",
    "            print(\"...\",name )\n",
    "        except:\n",
    "            print(\"some error\")\n",
    "print(\"Completed\")"
   ]
  },
  {
   "cell_type": "code",
   "execution_count": 12,
   "metadata": {},
   "outputs": [],
   "source": [
    "with open('database.json','a') as db:\n",
    "    db.write(\"var data=[ \")\n",
    "    for post in posts:\n",
    "        json.dump(post,db)\n",
    "        db.write(\", \")\n",
    "    db.write(\" ];\")"
   ]
  },
  {
   "cell_type": "code",
   "execution_count": null,
   "metadata": {},
   "outputs": [],
   "source": []
  }
 ],
 "metadata": {
  "kernelspec": {
   "display_name": "Python 3",
   "language": "python",
   "name": "python3"
  },
  "language_info": {
   "codemirror_mode": {
    "name": "ipython",
    "version": 3
   },
   "file_extension": ".py",
   "mimetype": "text/x-python",
   "name": "python",
   "nbconvert_exporter": "python",
   "pygments_lexer": "ipython3",
   "version": "3.6.9"
  }
 },
 "nbformat": 4,
 "nbformat_minor": 4
}
