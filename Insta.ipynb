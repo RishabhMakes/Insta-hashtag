{
 "cells": [
  {
   "cell_type": "code",
   "execution_count": 1,
   "metadata": {},
   "outputs": [
    {
     "name": "stdout",
     "output_type": "stream",
     "text": [
      "Starting stuff\n"
     ]
    }
   ],
   "source": [
    "print(\"Starting stuff\")\n",
    "from bs4 import BeautifulSoup\n",
    "from selenium import webdriver\n",
    "from selenium.webdriver.common.keys import Keys\n",
    "from secrets import *\n",
    "import time\n",
    "import random\n",
    "import numpy\n",
    "import pandas\n",
    "import os\n",
    "# print(secrets.passkey)\n",
    "\n",
    "import urllib.request"
   ]
  },
  {
   "cell_type": "code",
   "execution_count": 2,
   "metadata": {},
   "outputs": [],
   "source": [
    "driver = webdriver.Firefox()\n",
    "time.sleep(2)\n",
    "tag='samosa'\n",
    "driver.get('https://www.instagram.com/explore/tags/'+tag+'/')\n",
    "time.sleep(2)"
   ]
  },
  {
   "cell_type": "code",
   "execution_count": 3,
   "metadata": {
    "scrolled": true
   },
   "outputs": [],
   "source": [
    "html = driver.page_source\n",
    "soup = BeautifulSoup(html, 'html.parser')\n"
   ]
  },
  {
   "cell_type": "code",
   "execution_count": 4,
   "metadata": {},
   "outputs": [
    {
     "name": "stdout",
     "output_type": "stream",
     "text": [
      "58\n"
     ]
    }
   ],
   "source": [
    "posts=[]\n",
    "leads = soup.find_all(\"a\")\n",
    "print(len(leads))"
   ]
  },
  {
   "cell_type": "markdown",
   "metadata": {},
   "source": [
    "## Create posts that contain post details"
   ]
  },
  {
   "cell_type": "code",
   "execution_count": 5,
   "metadata": {},
   "outputs": [],
   "source": [
    "for lead in leads:\n",
    "    img=lead.find(\"img\")\n",
    "    if(img):\n",
    "        post={}\n",
    "        post[\"url\"]=lead.attrs['href']\n",
    "        post[\"alt\"]=img['alt']\n",
    "        post[\"raw_link\"]=img['srcset']\n",
    "        post[\"tag\"]=tag\n",
    "        posts.append(post)\n",
    "        \n",
    "for post in posts:\n",
    "    part=post[\"raw_link\"].split(\",\")\n",
    "    clean=part[-1].split()\n",
    "    post[\"src\"]=clean[0]"
   ]
  },
  {
   "cell_type": "markdown",
   "metadata": {},
   "source": [
    "## Save images to /img/tag"
   ]
  },
  {
   "cell_type": "code",
   "execution_count": 6,
   "metadata": {},
   "outputs": [
    {
     "name": "stdout",
     "output_type": "stream",
     "text": [
      "... B_rD91QFBUd.jpg\n",
      "... B_rsYMNhiS6.jpg\n",
      "... B_r7Nzole5C.jpg\n",
      "... B_olKzrlV_k.jpg\n",
      "... B_kVNIEnp_O.jpg\n",
      "... B_pkJ6OlGUV.jpg\n",
      "... B_mopOMlsNY.jpg\n",
      "... B_oj8HMF8Uu.jpg\n",
      "... B_l-tdJlrlC.jpg\n",
      "... B_t8O19nXEl.jpg\n",
      "... B_t8MLplP39.jpg\n",
      "... B_t71BLl5ae.jpg\n",
      "... B_t7kO_FQCn.jpg\n",
      "... B_t7dsAgqgs.jpg\n",
      "... B_t7OuzA6RY.jpg\n",
      "... B_t7F9tlWhn.jpg\n",
      "... B_t6sYBFR5x.jpg\n",
      "... B_t6aOOHQkw.jpg\n",
      "... B_t6WnfFT3G.jpg\n",
      "... B_t6Fj7DoDX.jpg\n",
      "... B_t3-8EHO2H.jpg\n",
      "... B_t5qZTHER8.jpg\n",
      "... B_t5igxp9Yj.jpg\n",
      "... B_t47VCleAI.jpg\n",
      "... B_t5YCOlZGd.jpg\n",
      "... B_t5NYbl6DF.jpg\n",
      "... B_t45xRFemb.jpg\n",
      "... B_t45QPlpeo.jpg\n",
      "... B_t41Qvjkbz.jpg\n",
      "... B_t40wElWOd.jpg\n",
      "... B_t4tqqFMWg.jpg\n",
      "... B_t4IVrgxgF.jpg\n",
      "... B_t3w8CpGSC.jpg\n",
      "some error\n"
     ]
    }
   ],
   "source": [
    "directory= os.path.join(os.path.expanduser('~'),'Insta_hashtag', 'img', tag)\n",
    "if not os.path.isdir(directory):\n",
    "    os.makedirs(directory) \n",
    "    \n",
    "for post in posts: \n",
    "    pic_url=post[\"src\"]\n",
    "    name=post[\"url\"][3:-1]+'.jpg'\n",
    "    path = os.path.join(directory,name)\n",
    "    if (not os.path.isfile(path)):\n",
    "        try:\n",
    "            urllib.request.urlretrieve(pic_url, path)\n",
    "            print(\"...\",name )\n",
    "        except:\n",
    "            print(\"some error\")\n"
   ]
  },
  {
   "cell_type": "code",
   "execution_count": null,
   "metadata": {},
   "outputs": [],
   "source": []
  }
 ],
 "metadata": {
  "kernelspec": {
   "display_name": "Python 3",
   "language": "python",
   "name": "python3"
  },
  "language_info": {
   "codemirror_mode": {
    "name": "ipython",
    "version": 3
   },
   "file_extension": ".py",
   "mimetype": "text/x-python",
   "name": "python",
   "nbconvert_exporter": "python",
   "pygments_lexer": "ipython3",
   "version": "3.6.9"
  }
 },
 "nbformat": 4,
 "nbformat_minor": 4
}
