{
 "cells": [
  {
   "cell_type": "code",
   "execution_count": 1,
   "metadata": {},
   "outputs": [
    {
     "name": "stdout",
     "output_type": "stream",
     "text": [
      "Starting stuff\n"
     ]
    }
   ],
   "source": [
    "print(\"Starting stuff\")\n",
    "from bs4 import BeautifulSoup\n",
    "from selenium import webdriver\n",
    "from selenium.webdriver.common.keys import Keys\n",
    "from secrets import *\n",
    "import time\n",
    "import random\n",
    "import numpy\n",
    "import pandas\n",
    "import os\n",
    "# print(secrets.passkey)\n",
    "import json\n",
    "import urllib.request"
   ]
  },
  {
   "cell_type": "code",
   "execution_count": 2,
   "metadata": {},
   "outputs": [],
   "source": [
    "driver = webdriver.Firefox()\n",
    "time.sleep(2)\n",
    "tag='culture'\n",
    "driver.get('https://www.instagram.com/explore/tags/'+tag+'/')\n",
    "time.sleep(2)"
   ]
  },
  {
   "cell_type": "code",
   "execution_count": 3,
   "metadata": {
    "scrolled": true
   },
   "outputs": [],
   "source": [
    "html = driver.page_source\n",
    "soup = BeautifulSoup(html, 'html.parser')\n"
   ]
  },
  {
   "cell_type": "code",
   "execution_count": 4,
   "metadata": {},
   "outputs": [
    {
     "name": "stdout",
     "output_type": "stream",
     "text": [
      "46\n"
     ]
    }
   ],
   "source": [
    "posts=[]\n",
    "leads = soup.find_all(\"a\")\n",
    "print(len(leads))"
   ]
  },
  {
   "cell_type": "markdown",
   "metadata": {},
   "source": [
    "## Find post links from hashtag page"
   ]
  },
  {
   "cell_type": "code",
   "execution_count": 5,
   "metadata": {},
   "outputs": [],
   "source": [
    "for lead in leads:\n",
    "    img=lead.find(\"img\", class_=\"FFVAD\")\n",
    "    if(img):\n",
    "        post={}\n",
    "        post[\"url\"]=lead.attrs['href']\n",
    "        post[\"alt\"]=img['alt']\n",
    "        post[\"raw_link\"]=img['srcset']\n",
    "        post[\"tag\"]=tag\n",
    "        posts.append(post)\n",
    "        \n",
    "for post in posts:\n",
    "    part=post[\"raw_link\"].split(\",\")\n",
    "    clean=part[-1].split()\n",
    "    post[\"src\"]=clean[0]"
   ]
  },
  {
   "cell_type": "markdown",
   "metadata": {},
   "source": [
    "## Find details of post"
   ]
  },
  {
   "cell_type": "code",
   "execution_count": 10,
   "metadata": {},
   "outputs": [
    {
     "name": "stdout",
     "output_type": "stream",
     "text": [
      "Some error\n",
      "Some error\n",
      "Some error\n",
      "Some error\n"
     ]
    }
   ],
   "source": [
    "for post in posts:\n",
    "    url='https://www.instagram.com'+post[\"url\"]\n",
    "    driver.get(url)\n",
    "    html = driver.page_source\n",
    "    soup = BeautifulSoup(html, 'html.parser')\n",
    "    img = soup.find(\"img\", class_=\"FFVAD\")\n",
    "    try:\n",
    "        post[\"raw_link\"]=img['srcset']\n",
    "        \n",
    "        part=post[\"raw_link\"].split(\",\")\n",
    "        clean=part[-1].split()\n",
    "        post[\"src\"]=clean[0]\n",
    "            \n",
    "        post[\"size\"]=clean[1]\n",
    "         \n",
    "    except:\n",
    "        print(\"Some error\")\n",
    "    \n",
    "    user = soup.find(\"h2\").div.a\n",
    "    post[\"user\"]=user[\"href\"]\n",
    "    post[\"username\"]=user.string\n",
    "    \n",
    "    raw_description=soup.find(\"h2\").next_sibling\n",
    "    post[\"plaintext_description\"]=raw_description.get_text()\n",
    "    post[\"rich_description\"]=str(raw_description)\n",
    "#     print(post[\"descriptionplain\"], \"\\n \\n\")\n",
    "#     print(post[\"rich_description\"])\n",
    "    \n",
    "    "
   ]
  },
  {
   "cell_type": "markdown",
   "metadata": {},
   "source": [
    "## Save images to /img/tag"
   ]
  },
  {
   "cell_type": "code",
   "execution_count": 7,
   "metadata": {},
   "outputs": [
    {
     "name": "stdout",
     "output_type": "stream",
     "text": [
      "... B_ve3cIJxMU.jpg\n",
      "... B_vlgMtpVSQ.jpg\n",
      "... B_v-1cBnq8B.jpg\n",
      "... B_v8LE2h1xz.jpg\n",
      "... B_vrn2LpgA5.jpg\n",
      "... B_wTLBBg57C.jpg\n",
      "... B_v328yh-nI.jpg\n",
      "... B_vFQ6oJJA6.jpg\n",
      "... B_wNC3slsk9.jpg\n",
      "... B_wkBH9Bfak.jpg\n",
      "... B_wisp_BvlB.jpg\n",
      "... B_wj_Z0IkuX.jpg\n",
      "... B_wj_IYpOIB.jpg\n",
      "... B_wj-lkgZJj.jpg\n",
      "... B_wj9jjF4hA.jpg\n",
      "... B_wj9MUJbpX.jpg\n",
      "... B_wj9B0pXyY.jpg\n",
      "... B_wj7tzlBct.jpg\n",
      "... B_wj7thHswk.jpg\n",
      "... B_wjafjHAfZ.jpg\n",
      "... B_wj7G3prFM.jpg\n",
      "Completed\n"
     ]
    }
   ],
   "source": [
    "directory= os.path.join(os.path.expanduser('~'),'Insta-hashtag', 'img', tag)\n",
    "if not os.path.isdir(directory):\n",
    "    os.makedirs(directory) \n",
    "    \n",
    "for post in posts: \n",
    "    pic_url=post[\"src\"]\n",
    "    name=post[\"url\"][3:-1]+'.jpg'\n",
    "    path = os.path.join(directory,name)\n",
    "    if (not os.path.isfile(path)):\n",
    "        try:\n",
    "            urllib.request.urlretrieve(pic_url, path)\n",
    "            print(\"...\",name )\n",
    "        except:\n",
    "            print(\"some error\")\n",
    "print(\"Completed\")"
   ]
  },
  {
   "cell_type": "code",
   "execution_count": 16,
   "metadata": {},
   "outputs": [
    {
     "name": "stdout",
     "output_type": "stream",
     "text": [
      "{\"alt\": \"Salom! I wanted to share this special message with you all in Farsi! I have recently had the pleasure and honor of discovering some of the beauty of Persian/Iranian culture. All of the Iranian people I have met throughout my life have been nothing but kind, beautiful, gracious, and passionate. At a time when our leaders sometimes create negative situations beyond our control, it is important for us, THE PEOPLE, to continue to share, learn, and cultivate relationships with one another in inter-cultural dialogue. One reason I am fascinated with languages is that language is inseparable from culture, which is inseparable from the way we perceive our surroundings; every time we learn a new language, it\\u2019s as though a new portal of understanding of the world is unlocked. I have recently begun learning Farsi, and I am so excited for this new journey of discovery wherever it may lead \\ud83d\\udc9c\\nLove you all!\\n\\n#jennifergrout #persian #farsi #iran #iranianculture #language #culture #bridgebuilding #oneummah #ramadan2020 #islam #muslimah\", \"plaintext_description\": \"Salom! I wanted to share this special message with you all in Farsi! I have recently had the pleasure and honor of discovering some of the beauty of Persian/Iranian culture. All of the Iranian people I have met throughout my life have been nothing but kind, beautiful, gracious, and passionate. At a time when our leaders sometimes create negative situations beyond our control, it is important for us, THE PEOPLE, to continue to share, learn, and cultivate relationships with one another in inter-cultural dialogue. One reason I am fascinated with languages is that language is inseparable from culture, which is inseparable from the way we perceive our surroundings; every time we learn a new language, it\\u2019s as though a new portal of understanding of the world is unlocked. I have recently begun learning Farsi, and I am so excited for this new journey of discovery wherever it may lead \\ud83d\\udc9cLove you all!#jennifergrout #persian #farsi #iran #iranianculture #language #culture #bridgebuilding #oneummah #ramadan2020 #islam #muslimah\", \"raw_link\": \"https://instagram.fluh1-1.fna.fbcdn.net/v/t51.2885-15/e35/c0.90.720.720a/s150x150/95436013_548410716109737_2779579239459685360_n.jpg?_nc_ht=instagram.fluh1-1.fna.fbcdn.net&_nc_cat=1&_nc_ohc=yBxHrz-9ihYAX8fEqg9&oh=4145c6cf863e2402f8f31da2f22f0153&oe=5EB1FAB5 150w,https://instagram.fluh1-1.fna.fbcdn.net/v/t51.2885-15/e35/c0.90.720.720a/s240x240/95436013_548410716109737_2779579239459685360_n.jpg?_nc_ht=instagram.fluh1-1.fna.fbcdn.net&_nc_cat=1&_nc_ohc=yBxHrz-9ihYAX8fEqg9&oh=de1687de9f0c5f5ec2511501b694fcb6&oe=5EB2073F 240w,https://instagram.fluh1-1.fna.fbcdn.net/v/t51.2885-15/e35/c0.90.720.720a/s320x320/95436013_548410716109737_2779579239459685360_n.jpg?_nc_ht=instagram.fluh1-1.fna.fbcdn.net&_nc_cat=1&_nc_ohc=yBxHrz-9ihYAX8fEqg9&oh=9cfb2c31ce7ea57b3013ba9ae4b0a68b&oe=5EB25745 320w,https://instagram.fluh1-1.fna.fbcdn.net/v/t51.2885-15/e35/c0.90.720.720a/s480x480/95436013_548410716109737_2779579239459685360_n.jpg?_nc_ht=instagram.fluh1-1.fna.fbcdn.net&_nc_cat=1&_nc_ohc=yBxHrz-9ihYAX8fEqg9&oh=3bc394aa95df71a99409ae5887427cc1&oe=5EB1F31F 480w,https://instagram.fluh1-1.fna.fbcdn.net/v/t51.2885-15/sh0.08/e35/c0.90.720.720a/s640x640/95436013_548410716109737_2779579239459685360_n.jpg?_nc_ht=instagram.fluh1-1.fna.fbcdn.net&_nc_cat=1&_nc_ohc=yBxHrz-9ihYAX8fEqg9&oh=af8e0848ad9d11f62da6f6d721e9b39a&oe=5EB23F7F 640w\", \"rich_description\": \"<span class=\\\"\\\">Salom! I wanted to share this special message with you all in Farsi! I have recently had the pleasure and honor of discovering some of the beauty of Persian/Iranian culture. All of the Iranian people I have met throughout my life have been nothing but kind, beautiful, gracious, and passionate. At a time when our leaders sometimes create negative situations beyond our control, it is important for us, THE PEOPLE, to continue to share, learn, and cultivate relationships with one another in inter-cultural dialogue. One reason I am fascinated with languages is that language is inseparable from culture, which is inseparable from the way we perceive our surroundings; every time we learn a new language, it\\u2019s as though a new portal of understanding of the world is unlocked. I have recently begun learning Farsi, and I am so excited for this new journey of discovery wherever it may lead \\ud83d\\udc9c<br/>Love you all!<br/><br/><a class=\\\"xil3i\\\" href=\\\"/explore/tags/jennifergrout/\\\">#jennifergrout</a> <a class=\\\"xil3i\\\" href=\\\"/explore/tags/persian/\\\">#persian</a> <a class=\\\"xil3i\\\" href=\\\"/explore/tags/farsi/\\\">#farsi</a> <a class=\\\"xil3i\\\" href=\\\"/explore/tags/iran/\\\">#iran</a> <a class=\\\"xil3i\\\" href=\\\"/explore/tags/iranianculture/\\\">#iranianculture</a> <a class=\\\"xil3i\\\" href=\\\"/explore/tags/language/\\\">#language</a> <a class=\\\"xil3i\\\" href=\\\"/explore/tags/culture/\\\">#culture</a> <a class=\\\"xil3i\\\" href=\\\"/explore/tags/bridgebuilding/\\\">#bridgebuilding</a> <a class=\\\"xil3i\\\" href=\\\"/explore/tags/oneummah/\\\">#oneummah</a> <a class=\\\"xil3i\\\" href=\\\"/explore/tags/ramadan2020/\\\">#ramadan2020</a> <a class=\\\"xil3i\\\" href=\\\"/explore/tags/islam/\\\">#islam</a> <a class=\\\"xil3i\\\" href=\\\"/explore/tags/muslimah/\\\">#muslimah</a></span>\", \"src\": \"https://instagram.fluh1-1.fna.fbcdn.net/v/t51.2885-15/sh0.08/e35/c0.90.720.720a/s640x640/95436013_548410716109737_2779579239459685360_n.jpg?_nc_ht=instagram.fluh1-1.fna.fbcdn.net&_nc_cat=1&_nc_ohc=yBxHrz-9ihYAX8fEqg9&oh=af8e0848ad9d11f62da6f6d721e9b39a&oe=5EB23F7F\", \"tag\": \"culture\", \"url\": \"/p/B_ve3cIJxMU/\", \"user\": \"/jeangrout/\", \"username\": \"jeangrout\"}\n"
     ]
    }
   ],
   "source": [
    "with open('database.json','a') as db:\n",
    "    for post in posts:\n",
    "        json.dump(post,db)\n",
    "        db.write(\", \")"
   ]
  },
  {
   "cell_type": "code",
   "execution_count": null,
   "metadata": {},
   "outputs": [],
   "source": []
  }
 ],
 "metadata": {
  "kernelspec": {
   "display_name": "Python 3",
   "language": "python",
   "name": "python3"
  },
  "language_info": {
   "codemirror_mode": {
    "name": "ipython",
    "version": 3
   },
   "file_extension": ".py",
   "mimetype": "text/x-python",
   "name": "python",
   "nbconvert_exporter": "python",
   "pygments_lexer": "ipython3",
   "version": "3.6.9"
  }
 },
 "nbformat": 4,
 "nbformat_minor": 4
}
